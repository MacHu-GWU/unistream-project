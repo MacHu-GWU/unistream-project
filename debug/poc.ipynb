{
 "cells": [
  {
   "cell_type": "markdown",
   "id": "c66c6621-d379-4ed6-9236-ac4a1d31f97f",
   "metadata": {},
   "source": [
    "# Proof of Concept\n",
    "\n",
    "## Deque as FIFO\n",
    "\n",
    "- [collections.deque](https://docs.python.org/3/library/collections.html#collections.deque)"
   ]
  },
  {
   "cell_type": "code",
   "execution_count": 11,
   "id": "bd0537fc-ea89-484c-be20-09641a291184",
   "metadata": {},
   "outputs": [
    {
     "data": {
      "text/plain": [
       "deque([5, 4, 3, 2, 1])"
      ]
     },
     "execution_count": 11,
     "metadata": {},
     "output_type": "execute_result"
    }
   ],
   "source": [
    "import collections\n",
    "\n",
    "q = collections.deque()\n",
    "for i in [1, 2, 3]:\n",
    "    q.appendleft(i)\n",
    "\n",
    "q.extendleft([4, 5])\n",
    "q"
   ]
  },
  {
   "cell_type": "code",
   "execution_count": 12,
   "id": "3da27205-1cd9-4435-ac61-d096a9337c37",
   "metadata": {},
   "outputs": [
    {
     "name": "stdout",
     "output_type": "stream",
     "text": [
      "items = [1, 2, 3]\n",
      "q = deque([5, 4])\n"
     ]
    }
   ],
   "source": [
    "# take items\n",
    "items = [q.pop() for _ in range(3)]\n",
    "print(f\"{items = }\")\n",
    "print(f\"{q = }\")"
   ]
  },
  {
   "cell_type": "markdown",
   "id": "defd58c9-1101-43c4-aa14-6b94a953a75e",
   "metadata": {},
   "source": [
    "## Path.rename\n",
    "\n",
    "Verify if ``Path.rename`` can overwrite the target file silently.\n",
    "\n",
    "Conclusion = YES"
   ]
  },
  {
   "cell_type": "code",
   "execution_count": null,
   "id": "5044e540-64a0-4d9b-9c22-731ec0f65e9c",
   "metadata": {},
   "outputs": [],
   "source": []
  }
 ],
 "metadata": {
  "kernelspec": {
   "display_name": "Python 3 (ipykernel)",
   "language": "python",
   "name": "python3"
  },
  "language_info": {
   "codemirror_mode": {
    "name": "ipython",
    "version": 3
   },
   "file_extension": ".py",
   "mimetype": "text/x-python",
   "name": "python",
   "nbconvert_exporter": "python",
   "pygments_lexer": "ipython3",
   "version": "3.8.13"
  }
 },
 "nbformat": 4,
 "nbformat_minor": 5
}
